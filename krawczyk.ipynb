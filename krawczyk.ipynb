{
 "cells": [
  {
   "cell_type": "code",
   "execution_count": 42,
   "id": "241e2089",
   "metadata": {},
   "outputs": [
    {
     "data": {
      "text/plain": [
       "newton (generic function with 1 method)"
      ]
     },
     "execution_count": 42,
     "metadata": {},
     "output_type": "execute_result"
    }
   ],
   "source": [
    "using LinearAlgebra,IntervalArithmetic,ForwardDiff\n",
    "\n",
    "function newton(F,V)\n",
    "    x = V\n",
    "    for i = 1:2\n",
    "        j = ForwardDiff.jacobian(F,x)\n",
    "        R = inv(j)\n",
    "        x = x-R*F(x)\n",
    "    end\n",
    "    return x\n",
    "end"
   ]
  },
  {
   "cell_type": "code",
   "execution_count": 39,
   "id": "df4795a5",
   "metadata": {},
   "outputs": [
    {
     "data": {
      "text/plain": [
       "krawczyk (generic function with 1 method)"
      ]
     },
     "execution_count": 39,
     "metadata": {},
     "output_type": "execute_result"
    }
   ],
   "source": [
    "using LinearAlgebra,IntervalArithmetic,ForwardDiff\n",
    "\n",
    "function krawczyk(F,V)\n",
    "    x = newton(F,V)\n",
    "    j = ForwardDiff.jacobian(F,x)\n",
    "    R = inv(j)\n",
    "    V2 =  x+norm(R*F(x))*[(-1. .. 1.) for i in 1:size(R)[1]]\n",
    "    \n",
    "    j = ForwardDiff.jacobian(F,V2)\n",
    "    c = mid.(V2)\n",
    "    R = inv(ForwardDiff.jacobian(F,c)) \n",
    "    M = Matrix{Float64}(I,size(R))-R*j\n",
    "    K = c -R*F(c)+M*(X-c)\n",
    "    \n",
    "    return K\n",
    "end\n",
    "\n"
   ]
  },
  {
   "cell_type": "code",
   "execution_count": 43,
   "id": "ff887460",
   "metadata": {},
   "outputs": [
    {
     "name": "stdout",
     "output_type": "stream",
     "text": [
      "newton(F, X) = [1.0, -4.163336342344337e-17]\n",
      "krawczyk(F, X) = Interval{Float64}[[1, 1], [-4.16334e-17, -4.16333e-17]]\n"
     ]
    },
    {
     "data": {
      "text/plain": [
       "2-element Vector{Interval{Float64}}:\n",
       " [1, 1]\n",
       "    [-4.16334e-17, -4.16333e-17]"
      ]
     },
     "execution_count": 43,
     "metadata": {},
     "output_type": "execute_result"
    }
   ],
   "source": [
    "using LinearAlgebra,IntervalArithmetic,ForwardDiff\n",
    "\n",
    "f((x1,x2))= x1^2 - x2 -1\n",
    "g((x1,x2)) = (x1-2)^2-x2-1\n",
    "F((x,y))=[f((x,y));g((x,y))]\n",
    "\n",
    "X = [1.1, 0.1]\n",
    "\n",
    "@show newton(F,X)\n",
    "@show krawczyk(F,X)"
   ]
  }
 ],
 "metadata": {
  "kernelspec": {
   "display_name": "Julia 1.8.2",
   "language": "julia",
   "name": "julia-1.8"
  },
  "language_info": {
   "file_extension": ".jl",
   "mimetype": "application/julia",
   "name": "julia",
   "version": "1.8.2"
  }
 },
 "nbformat": 4,
 "nbformat_minor": 5
}
