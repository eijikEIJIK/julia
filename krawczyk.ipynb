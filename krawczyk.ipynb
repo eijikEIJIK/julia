{
 "cells": [
  {
   "cell_type": "code",
   "execution_count": 17,
   "id": "241e2089",
   "metadata": {},
   "outputs": [
    {
     "data": {
      "text/plain": [
       "newton (generic function with 1 method)"
      ]
     },
     "execution_count": 17,
     "metadata": {},
     "output_type": "execute_result"
    }
   ],
   "source": [
    "using LinearAlgebra,IntervalArithmetic,ForwardDiff\n",
    "\n",
    "function newton(F,V,n)\n",
    "    x = V\n",
    "    for i = 1:n\n",
    "        j = ForwardDiff.jacobian(F,x)\n",
    "        R = inv(j)\n",
    "        if norm(R*F(x))<10^(-3)\n",
    "            return x\n",
    "        end\n",
    "        x = x-R*F(x)\n",
    "    end\n",
    "    return x\n",
    "end"
   ]
  },
  {
   "cell_type": "code",
   "execution_count": 2,
   "id": "9401006c",
   "metadata": {},
   "outputs": [
    {
     "data": {
      "text/plain": [
       "orig_is_subset (generic function with 1 method)"
      ]
     },
     "execution_count": 2,
     "metadata": {},
     "output_type": "execute_result"
    }
   ],
   "source": [
    "using LinearAlgebra,IntervalArithmetic,ForwardDiff\n",
    "\n",
    "function orig_is_subset(X,Y)\n",
    "    for i = 1:size(X)[1]\n",
    "        if !( issubset(X[i],Y[i]) )\n",
    "            return false\n",
    "        end\n",
    "    end\n",
    "    return true\n",
    "end"
   ]
  },
  {
   "cell_type": "code",
   "execution_count": 43,
   "id": "df4795a5",
   "metadata": {},
   "outputs": [
    {
     "name": "stdout",
     "output_type": "stream",
     "text": [
      "x = [0.33357138648158435, -0.6667856932407922]\n",
      "V2 = Interval{Float64}[[0.333039, 0.334104], [-0.667318, -0.666253]]\n",
      "K = Interval{Float64}[[0.333332, 0.333335], [-0.666668, -0.666666]]\n",
      "krawczyk(F, X, 5) = Interval{Float64}[[0.333332, 0.333335], [-0.666668, -0.666666]]\n"
     ]
    },
    {
     "data": {
      "text/plain": [
       "2-element Vector{Interval{Float64}}:\n",
       "  [0.333332, 0.333335]\n",
       " [-0.666668, -0.666666]"
      ]
     },
     "execution_count": 43,
     "metadata": {},
     "output_type": "execute_result"
    }
   ],
   "source": [
    "using LinearAlgebra,IntervalArithmetic,ForwardDiff\n",
    "\n",
    "function krawczyk(F,V,n)\n",
    "    x = newton(F,V,n)\n",
    "    @show x\n",
    "    j = ForwardDiff.jacobian(F,x)\n",
    "    R = inv(j)\n",
    "    V2 =  x+norm(R*F(x))*[(-2. .. 2.) for i in 1:size(R)[1]]\n",
    "    \n",
    "    j = ForwardDiff.jacobian(F,V2)\n",
    "    c = mid.(V2)\n",
    "    R = inv(ForwardDiff.jacobian(F,c)) \n",
    "    M = Matrix{Float64}(I,size(R))-R*j\n",
    "    K = c -R*F(c)+M*(V2-c)\n",
    "    @show V2\n",
    "    @show K\n",
    "    if orig_is_subset(K,V2)\n",
    "        return K\n",
    "    else\n",
    "        return false\n",
    "    end\n",
    "end\n",
    "\n",
    "f((x1,x2)) = x1 + 2*x2 +1\n",
    "g((x1,x2)) = x1^2 + 2*(x2^2) -1\n",
    "F((x,y))=[f((x,y));g((x,y))]\n",
    "\n",
    "X = [1.01, 0.01]\n",
    "\n",
    "@show krawczyk(F,X,5)\n",
    "\n"
   ]
  }
 ],
 "metadata": {
  "kernelspec": {
   "display_name": "Julia 1.8.2",
   "language": "julia",
   "name": "julia-1.8"
  },
  "language_info": {
   "file_extension": ".jl",
   "mimetype": "application/julia",
   "name": "julia",
   "version": "1.8.2"
  }
 },
 "nbformat": 4,
 "nbformat_minor": 5
}
