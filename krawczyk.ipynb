{
 "cells": [
  {
   "cell_type": "code",
   "execution_count": 1,
   "id": "7e6a4f5e",
   "metadata": {},
   "outputs": [
    {
     "name": "stdout",
     "output_type": "stream",
     "text": [
      "krawczyk_simple(F, X) = Interval{Float64}[[0.605296, 0.630111], [0.777629, 0.798351]]\n"
     ]
    },
    {
     "data": {
      "text/plain": [
       "2-element Vector{Interval{Float64}}:\n",
       " [0.605296, 0.630111]\n",
       " [0.777629, 0.798351]"
      ]
     },
     "execution_count": 1,
     "metadata": {},
     "output_type": "execute_result"
    }
   ],
   "source": [
    "using LinearAlgebra,IntervalArithmetic,ForwardDiff\n",
    "\n",
    "function krawczyk_simple(F,X)\n",
    "    j = ForwardDiff.jacobian(F,X)\n",
    "    c = mid.(X)\n",
    "    R = inv(ForwardDiff.jacobian(F,c)) \n",
    "    M = Matrix{Float64}(I,size(R))-R*j\n",
    "    K = c -R*F(c)+M*(X-c)\n",
    "    return K\n",
    "end\n",
    "\n",
    "f((x1, x2)) = x1^2 + x2^2 - 1\n",
    "g((x1, x2)) = x1^2 - x2^4\n",
    "F((x1,x2))=[f((x1,x2));g((x1,x2))]\n",
    "\n",
    "X = [(0.6 .. 0.7),(0.7 .. 0.8)]\n",
    "@show krawczyk_simple(F,X)\n"
   ]
  },
  {
   "cell_type": "code",
   "execution_count": 2,
   "id": "241e2089",
   "metadata": {},
   "outputs": [
    {
     "data": {
      "text/plain": [
       "newton (generic function with 1 method)"
      ]
     },
     "execution_count": 2,
     "metadata": {},
     "output_type": "execute_result"
    }
   ],
   "source": [
    "using LinearAlgebra,IntervalArithmetic,ForwardDiff\n",
    "\n",
    "function newton(F,V,n)\n",
    "    x = V\n",
    "    for i = 1:n\n",
    "        j = ForwardDiff.jacobian(F,x)\n",
    "        R = inv(j)\n",
    "        if norm(R*F(x))<10^(-3)\n",
    "            return x\n",
    "        end\n",
    "        x = x-R*F(x)\n",
    "    end\n",
    "    return x\n",
    "end"
   ]
  },
  {
   "cell_type": "code",
   "execution_count": 3,
   "id": "9401006c",
   "metadata": {},
   "outputs": [
    {
     "data": {
      "text/plain": [
       "orig_is_subset (generic function with 1 method)"
      ]
     },
     "execution_count": 3,
     "metadata": {},
     "output_type": "execute_result"
    }
   ],
   "source": [
    "using LinearAlgebra,IntervalArithmetic,ForwardDiff\n",
    "\n",
    "function orig_is_subset(X,Y)\n",
    "    for i = 1:size(X)[1]\n",
    "        if !( issubset(X[i],Y[i]) )\n",
    "            return false\n",
    "        end\n",
    "    end\n",
    "    return true\n",
    "end"
   ]
  },
  {
   "cell_type": "code",
   "execution_count": 31,
   "id": "df4795a5",
   "metadata": {},
   "outputs": [
    {
     "name": "stdout",
     "output_type": "stream",
     "text": [
      "x = [0.6181286549707602, 0.7864035087719299]\n",
      "R = [0.4472733465548631 0.36161974710644257; 0.2842402474002675 -0.2842402474002675]\n",
      "r = [9.471581995952683e-5, 0.0002520459125309304]\n",
      "u = [0.00026809668620475546, 0.000425426778776159]\n",
      "V2 = Interval{Float64}[[0.61786, 0.618397], [0.785978, 0.786829]]\n",
      "K = Interval{Float64}[[0.618033, 0.618035], [0.78615, 0.786153]]\n",
      "krawczyk(F, X, 5) = Interval{Float64}[[0.618033, 0.618035], [0.78615, 0.786153]]\n"
     ]
    },
    {
     "data": {
      "text/plain": [
       "2-element Vector{Interval{Float64}}:\n",
       " [0.618033, 0.618035]\n",
       " [0.78615, 0.786153]"
      ]
     },
     "execution_count": 31,
     "metadata": {},
     "output_type": "execute_result"
    }
   ],
   "source": [
    "using LinearAlgebra,IntervalArithmetic,ForwardDiff\n",
    "\n",
    "function krawczyk(F,V,n)\n",
    "    x = newton(F,V,n)\n",
    "    j = ForwardDiff.jacobian(F,x)\n",
    "    R = inv(j)\n",
    "    r = abs.(R*F(x))\n",
    "    u = r.+(sum(r)/length(r))\n",
    "    V2 =  x+[(-u[i] .. u[i]) for i in 1:size(R)[1]]\n",
    "    \n",
    "    j = ForwardDiff.jacobian(F,V2)\n",
    "    c = mid.(V2)\n",
    "    R = inv(ForwardDiff.jacobian(F,c)) \n",
    "    M = Matrix{Float64}(I,size(R))-R*j\n",
    "    K = c -R*F(c)+M*(V2-c)\n",
    "    @show V2\n",
    "    @show K\n",
    "    if orig_is_subset(K,V2)\n",
    "        return K\n",
    "    else\n",
    "        return false\n",
    "    end\n",
    "end\n",
    "\n",
    "# f((x1,x2)) = x1 + 2*x2 +1\n",
    "# g((x1,x2)) = x1^2 + 2*(x2^2) -1\n",
    "\n",
    "f((x1, x2)) = x1^2 + x2^2 - 1\n",
    "g((x1, x2)) = x1^2 - x2^4\n",
    "F((x1,x2))=[f((x1,x2));g((x1,x2))]\n",
    "\n",
    "X = [0.6, 0.8]\n",
    "\n",
    "@show krawczyk(F,X,5)\n"
   ]
  }
 ],
 "metadata": {
  "kernelspec": {
   "display_name": "Julia 1.8.2",
   "language": "julia",
   "name": "julia-1.8"
  },
  "language_info": {
   "file_extension": ".jl",
   "mimetype": "application/julia",
   "name": "julia",
   "version": "1.8.2"
  }
 },
 "nbformat": 4,
 "nbformat_minor": 5
}
