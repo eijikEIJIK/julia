{
 "cells": [
  {
   "cell_type": "markdown",
   "id": "c0f57e78",
   "metadata": {},
   "source": [
    "# Juliaによる非線形方程式の全解探索アルゴリズムの実装"
   ]
  },
  {
   "cell_type": "markdown",
   "id": "a195957f",
   "metadata": {},
   "source": [
    "## Krawczyk法\n",
    "\n",
    "解きたい方程式を$ f(x)=0, f:R^n \\rightarrow R^n$とする。\n",
    "\n",
    "解の存在を検証したい領域を$I \\in R^n$とする。\n",
    "\n",
    "cを$I$の中心とする。\n",
    "\n",
    "$R$を$f'(c)$の近似逆行列とする。\n",
    "\n",
    "$K(I):=c-Rf(c)+(R-Rf'(I)(I-c))$をKrawczyk写像という。\n",
    "\n",
    "$K(I) \\in int(I)$が成立するならば$f(x)=0$の真の解が$I$内に一意に存在する。\n",
    "\n",
    "\n",
    "## 解の非存在条件\n",
    "Krawczyk写像を利用し、解の非存在性を示すことができる。区間$X$に対し、$X \\setminus K(X)$には解が存在しないので、\n",
    "与えられた区間ベクトル$X \\in IR^n $に対して、\n",
    "\n",
    "$K(X) \\cap X = \\emptyset$\n",
    "\n",
    "ならば、非線形方程式$f(X) = 0$の解は存在しない。\n",
    "\n",
    "また、区間演算の性質より、以下のような非存在条件が考えられる。\n",
    "\n",
    "与えられた区間ベクトル$X \\in IR^n$に対して\n",
    "\n",
    "$f(X) \\notin 0$\n",
    "\n",
    "または\n",
    "\n",
    "$f(c) + f'(X)(X-c) \\notin 0$\n",
    "\n",
    "ならば、非線形方程式$f(X) = 0$の解は存在しない。"
   ]
  },
  {
   "cell_type": "markdown",
   "id": "2f085beb",
   "metadata": {},
   "source": [
    "## Juliaによる区間演算"
   ]
  },
  {
   "cell_type": "code",
   "execution_count": 171,
   "id": "13d48f5a",
   "metadata": {},
   "outputs": [
    {
     "name": "stdout",
     "output_type": "stream",
     "text": [
      "X + Y = [0.399999, 0.600001]\n",
      "X - Y = [-0.300001, -0.0999999]\n",
      "X * Y = [0.0299999, 0.0800001]\n",
      "X / Y = [0.249999, 0.666667]\n"
     ]
    },
    {
     "data": {
      "text/plain": [
       "[0.249999, 0.666667]"
      ]
     },
     "execution_count": 171,
     "metadata": {},
     "output_type": "execute_result"
    }
   ],
   "source": [
    "using IntervalArithmetic\n",
    "\n",
    "X = (0.1 .. 0.2)\n",
    "Y = (0.3 .. 0.4)\n",
    "\n",
    "@show X+Y\n",
    "@show X-Y\n",
    "@show X*Y\n",
    "@show X/Y"
   ]
  },
  {
   "cell_type": "markdown",
   "id": "8934d1a7",
   "metadata": {},
   "source": [
    "## Juliaによる線形代数演算"
   ]
  },
  {
   "cell_type": "code",
   "execution_count": 172,
   "id": "6cf3f6c2",
   "metadata": {},
   "outputs": [
    {
     "name": "stdout",
     "output_type": "stream",
     "text": [
      "typeof(X) = Matrix{Int64}\n",
      "X + Y = [6 8; 10 12]\n",
      "X * Y = [19 22; 43 50]\n",
      "inv(X) = [-1.9999999999999996 0.9999999999999998; 1.4999999999999998 -0.4999999999999999]\n"
     ]
    },
    {
     "data": {
      "text/plain": [
       "2×2 Matrix{Float64}:\n",
       " -2.0   1.0\n",
       "  1.5  -0.5"
      ]
     },
     "execution_count": 172,
     "metadata": {},
     "output_type": "execute_result"
    }
   ],
   "source": [
    "using LinearAlgebra\n",
    "\n",
    "X = [1 2;3 4]\n",
    "Y = [5 6;7 8]\n",
    "\n",
    "@show typeof(X)\n",
    "@show X+Y\n",
    "@show X*Y\n",
    "@show inv(X) "
   ]
  },
  {
   "cell_type": "markdown",
   "id": "1039422b",
   "metadata": {},
   "source": [
    "## Juliaによる自動微分"
   ]
  },
  {
   "cell_type": "code",
   "execution_count": 173,
   "id": "a70e1e18",
   "metadata": {},
   "outputs": [
    {
     "name": "stdout",
     "output_type": "stream",
     "text": [
      "j1 = [2.0 -1.0; -2.0 -1.0]\n",
      "j2 = Interval{Float64}[[0, 2] [-1, -1]; [-4, -2] [-1, -1]]\n"
     ]
    },
    {
     "data": {
      "text/plain": [
       "2×2 Matrix{Interval{Float64}}:\n",
       "   [0, 2]  [-1, -1]\n",
       " [-4, -2]  [-1, -1]"
      ]
     },
     "execution_count": 173,
     "metadata": {},
     "output_type": "execute_result"
    }
   ],
   "source": [
    "using ForwardDiff\n",
    "\n",
    "f((x1,x2)) = x1^2-x2-1\n",
    "g((x1,x2)) = (x1-2)^2 -x2-1\n",
    "F((x,y))=[f((x,y));g((x,y))]\n",
    "j1 = ForwardDiff.jacobian(F,[1. 1.])\n",
    "j2 = ForwardDiff.jacobian(F,[(0. ..  1.) (0. .. 1.)])\n",
    "\n",
    "@show j1\n",
    "@show j2"
   ]
  },
  {
   "cell_type": "markdown",
   "id": "ced4dd10",
   "metadata": {},
   "source": [
    "## 全解探索アルゴリズムのソースコード"
   ]
  },
  {
   "cell_type": "code",
   "execution_count": 174,
   "id": "da80f19b",
   "metadata": {},
   "outputs": [
    {
     "data": {
      "text/plain": [
       "allsol (generic function with 1 method)"
      ]
     },
     "execution_count": 174,
     "metadata": {},
     "output_type": "execute_result"
    }
   ],
   "source": [
    "using LinearAlgebra,IntervalArithmetic,ForwardDiff\n",
    "\n",
    "function orig_is_subset(X,Y)\n",
    "    for i = 1:size(X)[1]\n",
    "        if !( issubset(X[i],Y[i]) )\n",
    "            return false\n",
    "        end\n",
    "    end\n",
    "    return true\n",
    "end\n",
    "\n",
    "function orig_intersect(X,Y)\n",
    "    L = X*1\n",
    "    for i = 1:size(X)[1]\n",
    "        L[i]= intersect(X[i],Y[i])\n",
    "    end\n",
    "    return L\n",
    "end\n",
    "\n",
    "function orig_is_empty(X,Y)\n",
    "    for i = 1:size(X)[1]\n",
    "        if ( isempty(intersect(X[i],Y[i])) )\n",
    "            return true\n",
    "        end\n",
    "    end\n",
    "    return false\n",
    "end\n",
    "\n",
    "function orig_devide(X)\n",
    "    #最も長い辺を二等分する\n",
    "    max_diam=0\n",
    "    max_index=0\n",
    "    min_diam=diam(X[1])\n",
    "    min_index=1\n",
    "    X1,X2=[],[]\n",
    "    for (i,x) in enumerate(X)\n",
    "        if diam(x)>max_diam\n",
    "            max_diam=diam(x)\n",
    "            max_index=i\n",
    "        end\n",
    "        if diam(x)<min_diam\n",
    "            min_diam=diam(x)\n",
    "            min_index=i\n",
    "        end\n",
    "    end\n",
    "\n",
    "    if diam(X[min_index])<10^(-8)\n",
    "        return false\n",
    "    end\n",
    "    \n",
    "    X1=X*1 #値をコピーする\n",
    "    X2=X*1 #値をコピーする\n",
    "    X1[max_index]= intersect(X[max_index],X[max_index]-radius(X[max_index]))\n",
    "    X2[max_index]= intersect(X[max_index],X[max_index]+(diam(X[max_index])-radius(X[max_index])))\n",
    "    return X1,X2\n",
    "end\n",
    "\n",
    "function border(K,I)\n",
    "    c=0.9\n",
    "    K_width=diam.(K)\n",
    "    I_width=diam.(I)\n",
    "    max=0\n",
    "    for i=1:size(K)[1]\n",
    "        if (K_width[i]/I_width[i])>max\n",
    "            max=K_width[i]/I_width[i]\n",
    "        end\n",
    "    end\n",
    "    if max<=0.9\n",
    "        return true\n",
    "    else\n",
    "        return false\n",
    "    end\n",
    "end\n",
    "\n",
    "function remove_duplication(S)\n",
    "    tmp_index=[]\n",
    "    new_s=[]\n",
    "    for i=1:size(S)[1]-1\n",
    "        for j = i+1:size(S)[1]\n",
    "            if !orig_is_empty(S[i],S[j])\n",
    "                \n",
    "                if (i in tmp_index) || (j in tmp_index)\n",
    "                    push!(tmp_index,i)\n",
    "                    push!(tmp_index,j)\n",
    "                    continue\n",
    "                end\n",
    "                push!(tmp_index,i)\n",
    "                push!(tmp_index,j)\n",
    "                I = orig_intersect(S[i],S[j])\n",
    "                push!(new_s,I)\n",
    "            end\n",
    "        end\n",
    "    end\n",
    "    for i=1:size(S)[1]\n",
    "        if !(i in tmp_index)\n",
    "            push!(new_s,S[i])\n",
    "        end\n",
    "    end\n",
    "    \n",
    "    return new_s\n",
    "end\n",
    "\n",
    "\n",
    "function allsol(F,X)\n",
    "    dimention = size(X)[1]\n",
    "    \n",
    "    L = [X] #調査する区間のリスト\n",
    "    S = Array[] #見つかった解のリスト\n",
    "    \n",
    "    while (size(L)[1] != 0)\n",
    "        \n",
    "        X = popfirst!(L) #Lから区間を一つ取り出す\n",
    "        \n",
    "        #非存在判定\n",
    "        if !( orig_is_subset([(0. .. 0.) for i=1:dimention], F(X)) ) \n",
    "            continue\n",
    "        end\n",
    "        \n",
    "        c = mid.(X)\n",
    "        j = ForwardDiff.jacobian(F,X)\n",
    "        \n",
    "        #非存在判定\n",
    "        if !( orig_is_subset([(0. .. 0.) for i=1:dimention], F(c)+j*(X-c)) )\n",
    "            continue\n",
    "        end\n",
    "        \n",
    "        R = []\n",
    "        #逆行列計算\n",
    "        try\n",
    "            R = inv(ForwardDiff.jacobian(F,c))\n",
    "        catch e\n",
    "            #逆行列計算に失敗したら区間を分割\n",
    "            try\n",
    "                X1,X2 = orig_devide(X)\n",
    "                push!(L, X1)\n",
    "                push!(L, X2)\n",
    "            catch \n",
    "                continue\n",
    "            end\n",
    "            continue\n",
    "        end\n",
    "        \n",
    "        M = Matrix{Float64}(I,size(R))-R*j\n",
    "        K = c -R*F(c)+M*(X-c)\n",
    "        \n",
    "        #解なし\n",
    "        if (orig_is_empty(K,X))\n",
    "            continue \n",
    "        end\n",
    "        \n",
    "        #解あり\n",
    "        if (orig_is_subset(K,X))　\n",
    "            push!(S, K) #解のリストに追加\n",
    "            continue\n",
    "        end\n",
    "        \n",
    "        # 境界に乗ってた時\n",
    "        if border(K,X)\n",
    "            push!(L,K)\n",
    "            continue\n",
    "        end\n",
    "        \n",
    "        #分割して候補者区間に追加\n",
    "        try\n",
    "            X1,X2 = orig_devide(orig_intersect(K,X))\n",
    "            #K and X を2分割\n",
    "            push!(L, X1)\n",
    "            push!(L, X2)\n",
    "            continue\n",
    "        catch\n",
    "            continue\n",
    "        end\n",
    "    end\n",
    "    \n",
    "    #重複を排除\n",
    "    S = remove_duplication(S)\n",
    "    \n",
    "    #区間を狭める\n",
    "    for i =1:size(S)[1]\n",
    "        si=S[i]\n",
    "        while(maximum(radius,si) >= 10^-5)\n",
    "            j=0\n",
    "            try\n",
    "                j = ForwardDiff.jacobian(F,si)\n",
    "            catch\n",
    "                break\n",
    "            end\n",
    "            c = mid.(si)\n",
    "            R=0\n",
    "            try \n",
    "                R = inv(ForwardDiff.jacobian(F,c)) \n",
    "            catch\n",
    "                break\n",
    "            end\n",
    "            M = Matrix{Float64}(I,size(R))-R*j\n",
    "            k = c -R*F(c)+M*(si-c)\n",
    "            if orig_is_subset(k,si)\n",
    "                si=k\n",
    "            else\n",
    "                break\n",
    "            end\n",
    "        end\n",
    "        S[i]=si\n",
    "    end\n",
    "    \n",
    "    for s=1:size(S)[1] \n",
    "        print(\"解\");print(s);print(\": \");\n",
    "        for i in S[s]\n",
    "            print(i)\n",
    "            print(\" \")\n",
    "        end\n",
    "        println(\"\")\n",
    "    end\n",
    "    \n",
    "    return S\n",
    "end\n",
    "\n",
    "# 重解　＝＞区間幅に制限をつける\n",
    "# 高速化？"
   ]
  },
  {
   "cell_type": "markdown",
   "id": "74c25f38",
   "metadata": {},
   "source": [
    "## 検証1"
   ]
  },
  {
   "cell_type": "code",
   "execution_count": 175,
   "id": "bfd1c963",
   "metadata": {},
   "outputs": [
    {
     "name": "stdout",
     "output_type": "stream",
     "text": [
      "解1: [-4.14462, -4.14461] [-3.28814, -3.28813] \n",
      "解2: [3.2574, 3.25741] [-3.18413, -3.18412] \n",
      "解3: [0.820019, 0.820025] [-2.93392, -2.93389] \n",
      "解4: [1.08436, 1.08437] [1.97179, 1.9718] \n",
      "解5: [-3.4131, -3.41309] [1.69858, 1.69859] \n",
      "解6: [0.720303, 0.720304] [0.853378, 0.853379] \n",
      "解7: [-3.43452, -3.43451] [1.40441, 1.40442] \n",
      "answer = Any[Interval{Float64}[[-4.14462, -4.14461], [-3.28814, -3.28813]], Interval{Float64}[[3.2574, 3.25741], [-3.18413, -3.18412]], Interval{Float64}[[0.820019, 0.820025], [-2.93392, -2.93389]], Interval{Float64}[[1.08436, 1.08437], [1.97179, 1.9718]], Interval{Float64}[[-3.4131, -3.41309], [1.69858, 1.69859]], Interval{Float64}[[0.720303, 0.720304], [0.853378, 0.853379]], Interval{Float64}[[-3.43452, -3.43451], [1.40441, 1.40442]]]\n"
     ]
    },
    {
     "data": {
      "text/plain": [
       "7-element Vector{Any}:\n",
       " Interval{Float64}[[-4.14462, -4.14461], [-3.28814, -3.28813]]\n",
       " Interval{Float64}[[3.2574, 3.25741], [-3.18413, -3.18412]]\n",
       " Interval{Float64}[[0.820019, 0.820025], [-2.93392, -2.93389]]\n",
       " Interval{Float64}[[1.08436, 1.08437], [1.97179, 1.9718]]\n",
       " Interval{Float64}[[-3.4131, -3.41309], [1.69858, 1.69859]]\n",
       " Interval{Float64}[[0.720303, 0.720304], [0.853378, 0.853379]]\n",
       " Interval{Float64}[[-3.43452, -3.43451], [1.40441, 1.40442]]"
      ]
     },
     "execution_count": 175,
     "metadata": {},
     "output_type": "execute_result"
    }
   ],
   "source": [
    "X = [(-1000. ..1000.),(-1000. .. 1000.)]\n",
    "\n",
    "f((x1, x2)) = 2*x1^3 + 2*x1*x2 - 22*x1+ x2^2 + 10 + pi\n",
    "g((x1, x2)) = x1^2 + 2*x1*sin(x2) + 2*x2^3 - 14*x2 + 9.1\n",
    "\n",
    "F1((x,y))=[f((x,y));g((x,y))]\n",
    "answer=allsol(F1,X)\n",
    "@show answer"
   ]
  },
  {
   "cell_type": "markdown",
   "id": "37265f03",
   "metadata": {},
   "source": [
    "### kvのallsolによる計算結果\n",
    "\n",
    "[-4.1446150444051498,-4.1446150444051452]\t[-3.28813192969558,-3.2881319296955777]\n",
    "\n",
    "[0.82002197462817749,0.82002197462817839]\t[-2.9339051715639717,-2.933905171563969]\n",
    "\n",
    "[-3.4130997082062136,-3.4130997082062104]\t[1.6985839371679012,1.6985839371679068]\n",
    "\n",
    "\n",
    "[-3.4345149364856549,-3.4345149364856526]\t[1.4044134733988069,1.4044134733988121]\n",
    "\n",
    "[0.72030308132508302,0.7203030813250837]\t[0.85337813273684248,0.85337813273684371]\n",
    "\n",
    "[1.0843602587813725,1.0843602587813746]\t[1.971798770579664,1.9717987705796661]"
   ]
  },
  {
   "cell_type": "markdown",
   "id": "85e0e804",
   "metadata": {},
   "source": [
    "## 検証２"
   ]
  },
  {
   "cell_type": "code",
   "execution_count": 176,
   "id": "bfd80168",
   "metadata": {},
   "outputs": [
    {
     "name": "stdout",
     "output_type": "stream",
     "text": [
      "解1: [-1.00001, -0.999999] [-3.985e-09, 3.985e-09] \n",
      "解2: [0.333333, 0.333334] [-0.666667, -0.666666] \n",
      "answer = Any[Interval{Float64}[[-1.00001, -0.999999], [-3.985e-09, 3.985e-09]], Interval{Float64}[[0.333333, 0.333334], [-0.666667, -0.666666]]]\n"
     ]
    },
    {
     "data": {
      "text/plain": [
       "2-element Vector{Any}:\n",
       " Interval{Float64}[[-1.00001, -0.999999], [-3.985e-09, 3.985e-09]]\n",
       " Interval{Float64}[[0.333333, 0.333334], [-0.666667, -0.666666]]"
      ]
     },
     "execution_count": 176,
     "metadata": {},
     "output_type": "execute_result"
    }
   ],
   "source": [
    "X = [(-1000. ..1000.),(-1000. .. 1000.)]\n",
    "\n",
    "f((x1,x2)) = x1 + 2*x2 +1\n",
    "g((x1,x2)) = x1^2 + 2*(x2^2) -1\n",
    "\n",
    "F2((x,y))=[f((x,y));g((x,y))]\n",
    "answer=allsol(F2,X)\n",
    "@show answer"
   ]
  },
  {
   "cell_type": "markdown",
   "id": "3130836e",
   "metadata": {},
   "source": [
    "### kvのallsolによる計算結果\n",
    "\n",
    "[0.3333333333333332,0.33333333333333349]\t[-0.66666666666666686,-0.66666666666666651]\n",
    "\n",
    "[-1.0000000000000005,-0.99999999999999977]\t[-5.6222596042849915e-17,2.7044130804046339e-17]"
   ]
  },
  {
   "cell_type": "markdown",
   "id": "1e95c851",
   "metadata": {},
   "source": [
    "## 検証3"
   ]
  },
  {
   "cell_type": "code",
   "execution_count": 177,
   "id": "03b3375e",
   "metadata": {},
   "outputs": [
    {
     "name": "stdout",
     "output_type": "stream",
     "text": [
      "解1: [-0.618035, -0.618033] [-0.786152, -0.786151] \n",
      "解2: [-0.618035, -0.618033] [0.786151, 0.786152] \n",
      "解3: [0.618033, 0.618035] [-0.786152, -0.786151] \n",
      "解4: [0.618033, 0.618035] [0.786151, 0.786152] \n",
      "answer = Any[Interval{Float64}[[-0.618035, -0.618033], [-0.786152, -0.786151]], Interval{Float64}[[-0.618035, -0.618033], [0.786151, 0.786152]], Interval{Float64}[[0.618033, 0.618035], [-0.786152, -0.786151]], Interval{Float64}[[0.618033, 0.618035], [0.786151, 0.786152]]]\n"
     ]
    },
    {
     "data": {
      "text/plain": [
       "4-element Vector{Any}:\n",
       " Interval{Float64}[[-0.618035, -0.618033], [-0.786152, -0.786151]]\n",
       " Interval{Float64}[[-0.618035, -0.618033], [0.786151, 0.786152]]\n",
       " Interval{Float64}[[0.618033, 0.618035], [-0.786152, -0.786151]]\n",
       " Interval{Float64}[[0.618033, 0.618035], [0.786151, 0.786152]]"
      ]
     },
     "execution_count": 177,
     "metadata": {},
     "output_type": "execute_result"
    }
   ],
   "source": [
    "X = [(-1000. ..1000.),(-1000. .. 1000.)]\n",
    "\n",
    "f((x1, x2)) = x1^2 + x2^2 - 1\n",
    "g((x1, x2)) = x1^2 - x2^4\n",
    "\n",
    "F3((x,y))=[f((x,y));g((x,y))]\n",
    "answer=allsol(F3,X)\n",
    "@show answer"
   ]
  },
  {
   "cell_type": "markdown",
   "id": "74046f8f",
   "metadata": {},
   "source": [
    "### kvのallsolによる計算結果\n",
    "\n",
    "[-0.61803398874989513,-0.61803398874989456]\t[-0.7861513777574235,-0.78615137775742305]\n",
    "\n",
    "[-0.61803398874989513,-0.61803398874989456]\t[0.78615137775742305,0.7861513777574235]\n",
    "\n",
    "[0.61803398874989456,0.61803398874989513]\t[-0.7861513777574235,-0.78615137775742305]\n",
    "\n",
    "[0.61803398874989456,0.61803398874989513]\t[0.78615137775742305,0.7861513777574235]"
   ]
  },
  {
   "cell_type": "markdown",
   "id": "b8df91b4",
   "metadata": {},
   "source": [
    "## 検証4(重解)"
   ]
  },
  {
   "cell_type": "code",
   "execution_count": 181,
   "id": "21df5695",
   "metadata": {
    "scrolled": true
   },
   "outputs": [
    {
     "name": "stdout",
     "output_type": "stream",
     "text": [
      "F4(X) = Interval{Float64}[[-1, 2e+06], [-1001, 2.001e+06]]\n",
      "解1: [-0.866026, -0.866024] [0.499998, 0.500002] \n",
      "解2: [0.866024, 0.866026] [0.499998, 0.500002] \n",
      "answer = Any[Interval{Float64}[[-0.866026, -0.866024], [0.499998, 0.500002]], Interval{Float64}[[0.866024, 0.866026], [0.499998, 0.500002]]]\n"
     ]
    },
    {
     "data": {
      "text/plain": [
       "2-element Vector{Any}:\n",
       " Interval{Float64}[[-0.866026, -0.866024], [0.499998, 0.500002]]\n",
       " Interval{Float64}[[0.866024, 0.866026], [0.499998, 0.500002]]"
      ]
     },
     "execution_count": 181,
     "metadata": {},
     "output_type": "execute_result"
    }
   ],
   "source": [
    "X = [(-1000. ..1000.),(-1000. .. 1000.)]\n",
    "\n",
    "f((x1, x2)) = x1^2 + x2^2 - 1\n",
    "g((x1, x2)) = 2*x1^2 - x2 - 1\n",
    "\n",
    "F4((x,y))=[f((x,y));g((x,y))]\n",
    "answer=allsol(F4,X)\n",
    "@show answer"
   ]
  },
  {
   "cell_type": "markdown",
   "id": "ed709126",
   "metadata": {},
   "source": [
    "### kvのallsolによる計算結果\n",
    "\n",
    "[-0.86602540378443882,-0.86602540378443848]\t[0.49999999999999983,0.50000000000000023]\n",
    "\n",
    "[0.86602540378443848,0.86602540378443882]\t[0.49999999999999983,0.50000000000000023]\n"
   ]
  },
  {
   "cell_type": "markdown",
   "id": "a22e77f4",
   "metadata": {},
   "source": [
    "## 検証5 3次元以上"
   ]
  },
  {
   "cell_type": "code",
   "execution_count": 185,
   "id": "8af1e552",
   "metadata": {},
   "outputs": [
    {
     "name": "stdout",
     "output_type": "stream",
     "text": [
      "解1: [-6.56039e-20, 6.52403e-20] [-7.71662e-08, 7.71617e-08] [-7.71617e-08, 7.71662e-08] \n",
      "解2: [5.11059e-17, 5.15905e-17] [0.999997, 1.00001] [-1.00001, -0.999997] \n",
      "解3: [-0.500001, -0.499999] [-0.366026, -0.366024] [0.866024, 0.866027] \n",
      "解4: [-0.500001, -0.499999] [1.36602, 1.36603] [-0.866026, -0.866025] \n",
      "answer = Any[Interval{Float64}[[-6.56039e-20, 6.52403e-20], [-7.71662e-08, 7.71617e-08], [-7.71617e-08, 7.71662e-08]], Interval{Float64}[[5.11059e-17, 5.15905e-17], [0.999997, 1.00001], [-1.00001, -0.999997]], Interval{Float64}[[-0.500001, -0.499999], [-0.366026, -0.366024], [0.866024, 0.866027]], Interval{Float64}[[-0.500001, -0.499999], [1.36602, 1.36603], [-0.866026, -0.866025]]]\n"
     ]
    },
    {
     "data": {
      "text/plain": [
       "4-element Vector{Any}:\n",
       " Interval{Float64}[[-6.56039e-20, 6.52403e-20], [-7.71662e-08, 7.71617e-08], [-7.71617e-08, 7.71662e-08]]\n",
       " Interval{Float64}[[5.11059e-17, 5.15905e-17], [0.999997, 1.00001], [-1.00001, -0.999997]]\n",
       " Interval{Float64}[[-0.500001, -0.499999], [-0.366026, -0.366024], [0.866024, 0.866027]]\n",
       " Interval{Float64}[[-0.500001, -0.499999], [1.36602, 1.36603], [-0.866026, -0.866025]]"
      ]
     },
     "execution_count": 185,
     "metadata": {},
     "output_type": "execute_result"
    }
   ],
   "source": [
    "X = [(-1000. ..1000.),(-1000. .. 1000.),(-1000. .. 1000.)]\n",
    "\n",
    "f((x1, x2, x3)) = 2*x1 + x2^2 + x3\n",
    "g((x1, x2, x3)) = 2*x1^2 - x2 - x3\n",
    "h((x1, x2, x3)) = x1 + x2 + x3\n",
    "\n",
    "F5((x,y,z))=[f((x,y,z));g((x,y,z));h((x,y,z))]\n",
    "\n",
    "answer=allsol(F5,X)\n",
    "@show answer"
   ]
  },
  {
   "cell_type": "markdown",
   "id": "ede11036",
   "metadata": {},
   "source": [
    "[-4.9406564584124655e-324,4.9406564584124655e-324]\n",
    "[-9.8813129168249309e-324,9.8813129168249309e-324]\n",
    "[-9.8813129168249309e-324,9.8813129168249309e-324]\n",
    "\n",
    "[-1.9075222407249442e-16,3.1292380856700906e-17]\n",
    "[0.99999999999999966,1.0000000000000007]\n",
    "[-1.0000000000000005,-0.99999999999999977]\n",
    "\n",
    "[-0.50000000000000023,-0.49999999999999994]\n",
    "[-0.36602540378443877,-0.36602540378443854]\n",
    "[0.86602540378443848,0.86602540378443882]\n",
    "\n",
    "[-0.50000000000000023,-0.49999999999999994]\n",
    "[1.3660254037844383,1.3660254037844391]\n",
    "[-0.86602540378443893,-0.86602540378443848]\n"
   ]
  },
  {
   "cell_type": "markdown",
   "id": "5f176639",
   "metadata": {},
   "source": [
    "## 今後\n",
    "\n",
    "- 高速化\n",
    "- KVのallsol_simpleとの速度比較"
   ]
  }
 ],
 "metadata": {
  "kernelspec": {
   "display_name": "Julia 1.8.2",
   "language": "julia",
   "name": "julia-1.8"
  },
  "language_info": {
   "file_extension": ".jl",
   "mimetype": "application/julia",
   "name": "julia",
   "version": "1.8.2"
  }
 },
 "nbformat": 4,
 "nbformat_minor": 5
}
