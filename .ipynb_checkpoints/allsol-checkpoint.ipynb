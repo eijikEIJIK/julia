{
 "cells": [
  {
   "cell_type": "markdown",
   "id": "2268373f",
   "metadata": {},
   "source": [
    "# Juliaによる非線形方程式の前回探索アルゴリズムの実装"
   ]
  },
  {
   "cell_type": "markdown",
   "id": "cdef3585",
   "metadata": {},
   "source": [
    "## 前回探索アルゴリズムのソースコード"
   ]
  },
  {
   "cell_type": "code",
   "execution_count": 11,
   "id": "da80f19b",
   "metadata": {},
   "outputs": [
    {
     "data": {
      "text/plain": [
       "allsol (generic function with 1 method)"
      ]
     },
     "execution_count": 11,
     "metadata": {},
     "output_type": "execute_result"
    }
   ],
   "source": [
    "using LinearAlgebra,IntervalArithmetic,ForwardDiff\n",
    "\n",
    "function orig_is_subset(X,Y)\n",
    "    for i = 1:size(X)[1]\n",
    "        if !( issubset(X[i],Y[i]) )\n",
    "            return false\n",
    "        end\n",
    "    end\n",
    "    return true\n",
    "end\n",
    "\n",
    "function orig_intersect(X,Y)\n",
    "    L = X*1\n",
    "    for i = 1:size(X)[1]\n",
    "        L[i]= intersect(X[i],Y[i])\n",
    "    end\n",
    "    return L\n",
    "end\n",
    "\n",
    "function orig_is_empty(X,Y)\n",
    "    for i = 1:size(X)[1]\n",
    "        if ( isempty(intersect(X[i],Y[i])) )\n",
    "            return true\n",
    "        end\n",
    "    end\n",
    "    return false\n",
    "end\n",
    "\n",
    "function orig_devide(X)\n",
    "    #最も長い辺を二等分する\n",
    "    max_diam=0\n",
    "    max_index=0\n",
    "    X1,X2=[],[]\n",
    "    for (i,x) in enumerate(X)\n",
    "        if diam(x)>max_diam\n",
    "            max_diam=diam(x)\n",
    "            max_index=i\n",
    "        end\n",
    "    end\n",
    "    \n",
    "    if diam(X[max_index])<10^(-8)\n",
    "        return false\n",
    "    end\n",
    "    \n",
    "    X1=X*1 #値をコピーする\n",
    "    X2=X*1 #値をコピーする\n",
    "    X1[max_index]= intersect(X[max_index],X[max_index]-radius(X[max_index]))\n",
    "    X2[max_index]= intersect(X[max_index],X[max_index]+(diam(X[max_index])-radius(X[max_index])))\n",
    "    return X1,X2\n",
    "end\n",
    "\n",
    "function border(K,I)\n",
    "    c=0.9\n",
    "    K_width=diam.(K)\n",
    "    I_width=diam.(I)\n",
    "    max=0\n",
    "    for i=1:size(K)[1]\n",
    "        if (K_width[i]/I_width[i])>max\n",
    "            max=K_width[i]/I_width[i]\n",
    "        end\n",
    "    end\n",
    "    if max<=0.9\n",
    "        return true\n",
    "    else\n",
    "        return false\n",
    "    end\n",
    "end\n",
    "\n",
    "function remove_duplication(S)\n",
    "    tmp_index=[]\n",
    "    new_s=[]\n",
    "    for i=1:size(S)[1]-1\n",
    "        for j = i+1:size(S)[1]\n",
    "            if !orig_is_empty(S[i],S[j])\n",
    "                \n",
    "                if (i in tmp_index) || (j in tmp_index)\n",
    "                    push!(tmp_index,i)\n",
    "                    push!(tmp_index,j)\n",
    "                    continue\n",
    "                end\n",
    "                push!(tmp_index,i)\n",
    "                push!(tmp_index,j)\n",
    "                I = orig_intersect(S[i],S[j])\n",
    "                push!(new_s,I)\n",
    "            end\n",
    "        end\n",
    "    end\n",
    "    for i=1:size(S)[1]\n",
    "        if !(i in tmp_index)\n",
    "            push!(new_s,S[i])\n",
    "        end\n",
    "    end\n",
    "    \n",
    "    return new_s\n",
    "end\n",
    "\n",
    "\n",
    "function allsol(F,X)\n",
    "    \n",
    "    L = [X] #調査する区間のリスト\n",
    "    S = Array[] #見つかった解のリスト\n",
    "    \n",
    "    while (size(L)[1] != 0)\n",
    "        \n",
    "        X = popfirst!(L) #Lから区間を一つ取り出す\n",
    "        \n",
    "        #非存在判定\n",
    "        if !( orig_is_subset([(0. ..0.),(0. ..0.)], F(X)) ) \n",
    "            continue\n",
    "        end\n",
    "        \n",
    "        c = mid.(X)\n",
    "        j = ForwardDiff.jacobian(F,X)\n",
    "        \n",
    "        #非存在判定\n",
    "        if !( orig_is_subset([(0. ..0.),(0. ..0.)], F(c)+j*(X-c)) )\n",
    "            continue\n",
    "        end\n",
    "        \n",
    "        R = []\n",
    "        #逆行列計算\n",
    "        try\n",
    "            R = inv(ForwardDiff.jacobian(F,c))\n",
    "        catch e\n",
    "            #逆行列計算に失敗したら区間を分割\n",
    "            try\n",
    "                X1,X2 = orig_devide(X)\n",
    "                push!(L, X1)\n",
    "                push!(L, X2)\n",
    "            catch e\n",
    "                println(e)\n",
    "            end\n",
    "            continue\n",
    "        end\n",
    "        \n",
    "        M = Matrix{Float64}(I,size(R))-R*j\n",
    "        K = c -R*F(c)+M*(X-c)\n",
    "        \n",
    "        #解なし\n",
    "        if (orig_is_empty(K,X))\n",
    "            continue \n",
    "        end\n",
    "        \n",
    "        #解あり\n",
    "        if (orig_is_subset(K,X))　\n",
    "            push!(S, K) #解のリストに追加\n",
    "            continue\n",
    "        end\n",
    "        \n",
    "        # 境界に乗ってた時\n",
    "        if border(K,X)\n",
    "            push!(L,K)\n",
    "            continue\n",
    "        end\n",
    "        \n",
    "        #分割して候補者区間に追加\n",
    "        try\n",
    "            X1,X2 = orig_devide(orig_intersect(K,X))\n",
    "            #K and X を2分割\n",
    "            push!(L, X1)\n",
    "            push!(L, X2)\n",
    "            continue\n",
    "        catch e\n",
    "            println(e)\n",
    "        end\n",
    "    end\n",
    "    \n",
    "    #重複を排除\n",
    "    S = remove_duplication(S)\n",
    "    \n",
    "    #区間を狭める\n",
    "    for i =1:size(S)[1]\n",
    "        si=S[i]\n",
    "        while(maximum(radius,si) >= 10^-5)\n",
    "            j=0\n",
    "            try\n",
    "                j = ForwardDiff.jacobian(F,si)\n",
    "            catch\n",
    "                break\n",
    "            end\n",
    "            c = mid.(si)\n",
    "            R=0\n",
    "            try \n",
    "                R = inv(ForwardDiff.jacobian(F,c)) \n",
    "            catch\n",
    "                break\n",
    "            end\n",
    "            M = Matrix{Float64}(I,size(R))-R*j\n",
    "            k = c -R*F(c)+M*(si-c)\n",
    "            if orig_is_subset(k,si)\n",
    "                si=k\n",
    "            else\n",
    "                break\n",
    "            end\n",
    "        end\n",
    "        S[i]=si\n",
    "    end\n",
    "    \n",
    "    for s=1:size(S)[1] \n",
    "        print(\"解\");print(s);print(\": \");\n",
    "        for i in S[s]\n",
    "            print(i)\n",
    "            print(\" , \")\n",
    "        end\n",
    "        println(\"\")\n",
    "    end\n",
    "    \n",
    "    return S\n",
    "end\n",
    "\n",
    "# 重解　＝＞区間幅に制限をつける\n",
    "# 高速化？"
   ]
  },
  {
   "cell_type": "markdown",
   "id": "87b98131",
   "metadata": {},
   "source": [
    "# 検証1"
   ]
  },
  {
   "cell_type": "code",
   "execution_count": 12,
   "id": "1b8c8efa",
   "metadata": {},
   "outputs": [
    {
     "name": "stdout",
     "output_type": "stream",
     "text": [
      "解1: [-4.14462, -4.14461] , [-3.28814, -3.28813] , \n",
      "解2: [3.2574, 3.25741] , [-3.18413, -3.18412] , \n",
      "解3: [0.820019, 0.820025] , [-2.93392, -2.93389] , \n",
      "解4: [1.08436, 1.08437] , [1.97179, 1.9718] , \n",
      "解5: [-3.4131, -3.41309] , [1.69858, 1.69859] , \n",
      "解6: [0.720303, 0.720304] , [0.853378, 0.853379] , \n",
      "解7: [-3.43452, -3.43451] , [1.40441, 1.40442] , \n",
      "answer = Any[Interval{Float64}[[-4.14462, -4.14461], [-3.28814, -3.28813]], Interval{Float64}[[3.2574, 3.25741], [-3.18413, -3.18412]], Interval{Float64}[[0.820019, 0.820025], [-2.93392, -2.93389]], Interval{Float64}[[1.08436, 1.08437], [1.97179, 1.9718]], Interval{Float64}[[-3.4131, -3.41309], [1.69858, 1.69859]], Interval{Float64}[[0.720303, 0.720304], [0.853378, 0.853379]], Interval{Float64}[[-3.43452, -3.43451], [1.40441, 1.40442]]]\n"
     ]
    },
    {
     "data": {
      "text/plain": [
       "7-element Vector{Any}:\n",
       " Interval{Float64}[[-4.14462, -4.14461], [-3.28814, -3.28813]]\n",
       " Interval{Float64}[[3.2574, 3.25741], [-3.18413, -3.18412]]\n",
       " Interval{Float64}[[0.820019, 0.820025], [-2.93392, -2.93389]]\n",
       " Interval{Float64}[[1.08436, 1.08437], [1.97179, 1.9718]]\n",
       " Interval{Float64}[[-3.4131, -3.41309], [1.69858, 1.69859]]\n",
       " Interval{Float64}[[0.720303, 0.720304], [0.853378, 0.853379]]\n",
       " Interval{Float64}[[-3.43452, -3.43451], [1.40441, 1.40442]]"
      ]
     },
     "execution_count": 12,
     "metadata": {},
     "output_type": "execute_result"
    }
   ],
   "source": [
    "X = [(-1000. ..1000.),(-1000. .. 1000.)]\n",
    "\n",
    "f((x1, x2)) = 2*x1^3 + 2*x1*x2 - 22*x1+ x2^2 + 10 + pi\n",
    "g((x1, x2)) = x1^2 + 2*x1*sin(x2) + 2*x2^3 - 14*x2 + 9.1\n",
    "\n",
    "F((x,y))=[f((x,y));g((x,y))]\n",
    "answer=allsol(F,X)\n",
    "@show answer"
   ]
  },
  {
   "cell_type": "markdown",
   "id": "eaf83f51",
   "metadata": {},
   "source": [
    "# 検証２"
   ]
  },
  {
   "cell_type": "code",
   "execution_count": 13,
   "id": "8822c18a",
   "metadata": {},
   "outputs": [
    {
     "name": "stdout",
     "output_type": "stream",
     "text": [
      "解1: [-1.00001, -0.999999] , [-3.985e-09, 3.985e-09] , \n",
      "解2: [0.333333, 0.333334] , [-0.666667, -0.666666] , \n",
      "answer = Any[Interval{Float64}[[-1.00001, -0.999999], [-3.985e-09, 3.985e-09]], Interval{Float64}[[0.333333, 0.333334], [-0.666667, -0.666666]]]\n"
     ]
    },
    {
     "data": {
      "text/plain": [
       "2-element Vector{Any}:\n",
       " Interval{Float64}[[-1.00001, -0.999999], [-3.985e-09, 3.985e-09]]\n",
       " Interval{Float64}[[0.333333, 0.333334], [-0.666667, -0.666666]]"
      ]
     },
     "execution_count": 13,
     "metadata": {},
     "output_type": "execute_result"
    }
   ],
   "source": [
    "X = [(-1000. ..1000.),(-1000. .. 1000.)]\n",
    "\n",
    "f((x1,x2)) = x1 + 2*x2 +1\n",
    "g((x1,x2)) = x1^2 + 2*(x2^2) -1\n",
    "\n",
    "F((x,y))=[f((x,y));g((x,y))]\n",
    "answer=allsol(F,X)\n",
    "@show answer"
   ]
  },
  {
   "cell_type": "markdown",
   "id": "b6285d77",
   "metadata": {},
   "source": [
    "### kvのallsolによる計算結果\n",
    "\n",
    "[0.3333333333333332,0.33333333333333349]\t[-0.66666666666666686,-0.66666666666666651]\n",
    "[-1.0000000000000005,-0.99999999999999977]\t[-5.6222596042849915e-17,2.7044130804046339e-17]\n",
    "\n",
    "[2]([0,0.9765625],[-0.93848612724143621,-0.5])(ex)\n",
    "[2]([0.3333333333333332,0.33333333333333349],[-0.66666666666666686,-0.66666666666666651])(ex:improved)\n",
    "[2]([-1.028206690549034,-0.9765625],[-0.01171875,0.1239652798895068])(ex)\n",
    "[2]([-1.0000000000000005,-0.99999999999999977],[-5.6222596042849915e-17,2.7044130804046339e-17])(ex:improved)\n",
    "ne_test: 47, ex_test: 4, ne: 21, ex: 2, giveup: 0    "
   ]
  },
  {
   "cell_type": "markdown",
   "id": "bcfd544a",
   "metadata": {},
   "source": [
    "# 検証3"
   ]
  },
  {
   "cell_type": "code",
   "execution_count": 14,
   "id": "4a75c4d4",
   "metadata": {},
   "outputs": [
    {
     "name": "stdout",
     "output_type": "stream",
     "text": [
      "解1: [-0.618035, -0.618033] , [-0.786152, -0.786151] , \n",
      "解2: [-0.618035, -0.618033] , [0.786151, 0.786152] , \n",
      "解3: [0.618033, 0.618035] , [-0.786152, -0.786151] , \n",
      "解4: [0.618033, 0.618035] , [0.786151, 0.786152] , \n",
      "answer = Any[Interval{Float64}[[-0.618035, -0.618033], [-0.786152, -0.786151]], Interval{Float64}[[-0.618035, -0.618033], [0.786151, 0.786152]], Interval{Float64}[[0.618033, 0.618035], [-0.786152, -0.786151]], Interval{Float64}[[0.618033, 0.618035], [0.786151, 0.786152]]]\n"
     ]
    },
    {
     "data": {
      "text/plain": [
       "4-element Vector{Any}:\n",
       " Interval{Float64}[[-0.618035, -0.618033], [-0.786152, -0.786151]]\n",
       " Interval{Float64}[[-0.618035, -0.618033], [0.786151, 0.786152]]\n",
       " Interval{Float64}[[0.618033, 0.618035], [-0.786152, -0.786151]]\n",
       " Interval{Float64}[[0.618033, 0.618035], [0.786151, 0.786152]]"
      ]
     },
     "execution_count": 14,
     "metadata": {},
     "output_type": "execute_result"
    }
   ],
   "source": [
    "X = [(-1000. ..1000.),(-1000. .. 1000.)]\n",
    "\n",
    "f((x1, x2)) = x1^2 + x2^2 - 1\n",
    "g((x1, x2)) = x1^2 - x2^4\n",
    "\n",
    "F((x,y))=[f((x,y));g((x,y))]\n",
    "answer=allsol(F,X)\n",
    "@show answer"
   ]
  },
  {
   "cell_type": "markdown",
   "id": "54898efc",
   "metadata": {},
   "source": [
    "### kvのallsolによる計算結果\n",
    "\n",
    "[-0.61803398874989513,-0.61803398874989456]\t[-0.7861513777574235,-0.78615137775742305]\n",
    "\n",
    "[-0.61803398874989513,-0.61803398874989456]\t[0.78615137775742305,0.7861513777574235]\n",
    "\n",
    "[0.61803398874989456,0.61803398874989513]\t[-0.7861513777574235,-0.78615137775742305]\n",
    "\n",
    "[0.61803398874989456,0.61803398874989513]\t[0.78615137775742305,0.7861513777574235]\n",
    "\n",
    "[2]([-0.65968092387858357,-0.56169675619534786],[-0.81730914349544959,-0.76021711482741849])(ex)\n",
    "[2]([-0.61803398874989513,-0.61803398874989456],[-0.7861513777574235,-0.78615137775742305])(ex:improved)\n",
    "[2]([-0.65968092387858357,-0.56169675619534786],[0.76021711482741849,0.81730914349544959])(ex)\n",
    "[2]([-0.61803398874989513,-0.61803398874989456],[0.78615137775742305,0.7861513777574235])(ex:improved)\n",
    "[2]([0.56169675619534786,0.65968092387858357],[-0.81730914349544959,-0.76021711482741849])(ex)\n",
    "[2]([0.61803398874989456,0.61803398874989513],[-0.7861513777574235,-0.78615137775742305])(ex:improved)\n",
    "[2]([0.56169675619534786,0.65968092387858357],[0.76021711482741849,0.81730914349544959])(ex)\n",
    "[2]([0.61803398874989456,0.61803398874989513],[0.78615137775742305,0.7861513777574235])(ex:improved)\n",
    "ne_test: 227, ex_test: 12, ne: 108, ex: 4, giveup: 0    "
   ]
  },
  {
   "cell_type": "markdown",
   "id": "50526114",
   "metadata": {},
   "source": [
    "# 検証4(重解)"
   ]
  },
  {
   "cell_type": "code",
   "execution_count": 15,
   "id": "89e1fc87",
   "metadata": {},
   "outputs": [
    {
     "name": "stdout",
     "output_type": "stream",
     "text": [
      "BoundsError(false, 2)\n",
      "BoundsError(false, 2)\n",
      "BoundsError(false, 2)\n",
      "BoundsError(false, 2)\n",
      "BoundsError(false, 2)\n",
      "BoundsError(false, 2)\n",
      "BoundsError(false, 2)\n",
      "BoundsError(false, 2)\n",
      "BoundsError(false, 2)\n",
      "BoundsError(false, 2)\n",
      "BoundsError(false, 2)\n",
      "BoundsError(false, 2)\n",
      "BoundsError(false, 2)\n",
      "BoundsError(false, 2)\n",
      "BoundsError(false, 2)\n",
      "BoundsError(false, 2)\n",
      "解1: [-0.866026, -0.866024] , [0.499998, 0.500002] , \n",
      "解2: [0.866024, 0.866026] , [0.499998, 0.500002] , \n",
      "解3: [-8.44569e-09, -4.57609e-09] , [-1.00001, -0.999999] , \n",
      "解4: [4.57609e-09, 8.44569e-09] , [-1.00001, -0.999999] , \n",
      "answer = Any[Interval{Float64}[[-0.866026, -0.866024], [0.499998, 0.500002]], Interval{Float64}[[0.866024, 0.866026], [0.499998, 0.500002]], Interval{Float64}[[-8.44569e-09, -4.57609e-09], [-1.00001, -0.999999]], Interval{Float64}[[4.57609e-09, 8.44569e-09], [-1.00001, -0.999999]]]\n"
     ]
    },
    {
     "data": {
      "text/plain": [
       "4-element Vector{Any}:\n",
       " Interval{Float64}[[-0.866026, -0.866024], [0.499998, 0.500002]]\n",
       " Interval{Float64}[[0.866024, 0.866026], [0.499998, 0.500002]]\n",
       " Interval{Float64}[[-8.44569e-09, -4.57609e-09], [-1.00001, -0.999999]]\n",
       " Interval{Float64}[[4.57609e-09, 8.44569e-09], [-1.00001, -0.999999]]"
      ]
     },
     "execution_count": 15,
     "metadata": {},
     "output_type": "execute_result"
    }
   ],
   "source": [
    "X = [(-1000. ..1000.),(-1000. .. 1000.)]\n",
    "\n",
    "f((x1, x2)) = x1^2 + x2^2 - 1\n",
    "g((x1, x2)) = 2*x1^2 - x2 - 1\n",
    "\n",
    "F((x,y))=[f((x,y));g((x,y))]\n",
    "answer=allsol(F,X)\n",
    "@show answer"
   ]
  }
 ],
 "metadata": {
  "kernelspec": {
   "display_name": "Julia 1.8.2",
   "language": "julia",
   "name": "julia-1.8"
  },
  "language_info": {
   "file_extension": ".jl",
   "mimetype": "application/julia",
   "name": "julia",
   "version": "1.8.2"
  }
 },
 "nbformat": 4,
 "nbformat_minor": 5
}
