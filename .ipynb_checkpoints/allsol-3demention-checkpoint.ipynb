{
 "cells": [
  {
   "cell_type": "markdown",
   "id": "c0f57e78",
   "metadata": {},
   "source": [
    "# Juliaによる非線形方程式の全解探索アルゴリズムの実装"
   ]
  },
  {
   "cell_type": "markdown",
   "id": "a195957f",
   "metadata": {},
   "source": [
    "## Krawczyk法\n",
    "\n",
    "解きたい方程式を$ f(x)=0, f:R^n \\rightarrow R^n$とする。\n",
    "\n",
    "解の存在を検証したい領域を$I \\in R^n$とする。\n",
    "\n",
    "cを$I$の中心とする。\n",
    "\n",
    "$R$を$f'(c)$の近似逆行列とする。\n",
    "\n",
    "$K(I):=c-Rf(c)+(R-Rf'(I)(I-c))$をKrawczyk写像という。\n",
    "\n",
    "$K(I) \\in int(I)$が成立するならば$f(x)=0$の真の解が$I$内に一意に存在する。\n",
    "\n",
    "\n",
    "## 解の非存在条件\n",
    "Krawczyk写像を利用し、解の非存在性を示すことができる。区間$X$に対し、$X \\setminus K(X)$には解が存在しないので、\n",
    "与えられた区間ベクトル$X \\in IR^n $に対して、\n",
    "\n",
    "$K(X) \\cap X = \\emptyset$\n",
    "\n",
    "ならば、非線形方程式$f(X) = 0$の解は存在しない。\n",
    "\n",
    "また、区間演算の性質より、以下のような非存在条件が考えられる。\n",
    "\n",
    "与えられた区間ベクトル$X \\in IR^n$に対して\n",
    "\n",
    "$f(X) \\notin 0$\n",
    "\n",
    "または\n",
    "\n",
    "$f(c) + f'(X)(X-c) \\notin 0$\n",
    "\n",
    "ならば、非線形方程式$f(X) = 0$の解は存在しない。"
   ]
  },
  {
   "cell_type": "markdown",
   "id": "2f085beb",
   "metadata": {},
   "source": [
    "## Juliaによる区間演算"
   ]
  },
  {
   "cell_type": "code",
   "execution_count": 2,
   "id": "13d48f5a",
   "metadata": {},
   "outputs": [
    {
     "name": "stdout",
     "output_type": "stream",
     "text": [
      "X + Y = [0.399999, 0.600001]\n",
      "X - Y = [-0.300001, -0.0999999]\n",
      "X * Y = [0.0299999, 0.0800001]\n",
      "X / Y = [0.249999, 0.666667]\n"
     ]
    },
    {
     "data": {
      "text/plain": [
       "[0.249999, 0.666667]"
      ]
     },
     "execution_count": 2,
     "metadata": {},
     "output_type": "execute_result"
    }
   ],
   "source": [
    "using IntervalArithmetic\n",
    "\n",
    "X = (0.1 .. 0.2)\n",
    "Y = (0.3 .. 0.4)\n",
    "\n",
    "@show X+Y\n",
    "@show X-Y\n",
    "@show X*Y\n",
    "@show X/Y"
   ]
  },
  {
   "cell_type": "markdown",
   "id": "8934d1a7",
   "metadata": {},
   "source": [
    "## Juliaによる線形代数演算"
   ]
  },
  {
   "cell_type": "code",
   "execution_count": 3,
   "id": "6cf3f6c2",
   "metadata": {},
   "outputs": [
    {
     "name": "stdout",
     "output_type": "stream",
     "text": [
      "typeof(X) = Matrix{Int64}\n",
      "X + Y = [6 8; 10 12]\n",
      "X * Y = [19 22; 43 50]\n",
      "inv(X) = [-1.9999999999999996 0.9999999999999998; 1.4999999999999998 -0.4999999999999999]\n"
     ]
    },
    {
     "data": {
      "text/plain": [
       "2×2 Matrix{Float64}:\n",
       " -2.0   1.0\n",
       "  1.5  -0.5"
      ]
     },
     "execution_count": 3,
     "metadata": {},
     "output_type": "execute_result"
    }
   ],
   "source": [
    "using LinearAlgebra\n",
    "\n",
    "X = [1 2;3 4]\n",
    "Y = [5 6;7 8]\n",
    "\n",
    "@show typeof(X)\n",
    "@show X+Y\n",
    "@show X*Y\n",
    "@show inv(X) "
   ]
  },
  {
   "cell_type": "markdown",
   "id": "1039422b",
   "metadata": {},
   "source": [
    "## Juliaによる自動微分"
   ]
  },
  {
   "cell_type": "code",
   "execution_count": 4,
   "id": "a70e1e18",
   "metadata": {},
   "outputs": [
    {
     "name": "stdout",
     "output_type": "stream",
     "text": [
      "j1 = [2.0 -1.0; -2.0 -1.0]\n",
      "j2 = Interval{Float64}[[0, 2] [-1, -1]; [-4, -2] [-1, -1]]\n"
     ]
    },
    {
     "data": {
      "text/plain": [
       "2×2 Matrix{Interval{Float64}}:\n",
       "   [0, 2]  [-1, -1]\n",
       " [-4, -2]  [-1, -1]"
      ]
     },
     "execution_count": 4,
     "metadata": {},
     "output_type": "execute_result"
    }
   ],
   "source": [
    "using ForwardDiff\n",
    "\n",
    "f((x1,x2)) = x1^2-x2-1\n",
    "g((x1,x2)) = (x1-2)^2 -x2-1\n",
    "F((x,y))=[f((x,y));g((x,y))]\n",
    "j1 = ForwardDiff.jacobian(F,[1. 1.])\n",
    "j2 = ForwardDiff.jacobian(F,[(0. ..  1.) (0. .. 1.)])\n",
    "\n",
    "@show j1\n",
    "@show j2"
   ]
  },
  {
   "cell_type": "markdown",
   "id": "ced4dd10",
   "metadata": {},
   "source": [
    "## 全解探索アルゴリズムのソースコード"
   ]
  },
  {
   "cell_type": "code",
   "execution_count": 17,
   "id": "da80f19b",
   "metadata": {},
   "outputs": [
    {
     "ename": "LoadError",
     "evalue": "syntax: \"try\" at In[17]:115 expected \"end\", got \")\"",
     "output_type": "error",
     "traceback": [
      "syntax: \"try\" at In[17]:115 expected \"end\", got \")\"",
      "",
      "Stacktrace:",
      " [1] top-level scope",
      "   @ In[17]:120",
      " [2] eval",
      "   @ .\\boot.jl:368 [inlined]",
      " [3] include_string(mapexpr::typeof(REPL.softscope), mod::Module, code::String, filename::String)",
      "   @ Base .\\loading.jl:1428"
     ]
    }
   ],
   "source": [
    "using LinearAlgebra,IntervalArithmetic,ForwardDiff\n",
    "\n",
    "function orig_is_subset(X,Y)\n",
    "    for i = 1:size(X)[1]\n",
    "        if !( issubset(X[i],Y[i]) )\n",
    "            return false\n",
    "        end\n",
    "    end\n",
    "    return true\n",
    "end\n",
    "\n",
    "function orig_intersect(X,Y)\n",
    "    L = X*1\n",
    "    for i = 1:size(X)[1]\n",
    "        L[i]= intersect(X[i],Y[i])\n",
    "    end\n",
    "    return L\n",
    "end\n",
    "\n",
    "function orig_is_empty(X,Y)\n",
    "    for i = 1:size(X)[1]\n",
    "        if ( isempty(intersect(X[i],Y[i])) )\n",
    "            return true\n",
    "        end\n",
    "    end\n",
    "    return false\n",
    "end\n",
    "\n",
    "function orig_devide(X)\n",
    "    #最も長い辺を二等分する\n",
    "    max_diam=0\n",
    "    max_index=0\n",
    "    min_diam=diam(X[1])\n",
    "    min_index=1\n",
    "    X1,X2=[],[]\n",
    "    for (i,x) in enumerate(X)\n",
    "        if diam(x)>max_diam\n",
    "            max_diam=diam(x)\n",
    "            max_index=i\n",
    "        end\n",
    "        if diam(x)<min_diam\n",
    "            min_diam=diam(x)\n",
    "            min_index=i\n",
    "        end\n",
    "    end\n",
    "\n",
    "    if diam(X[min_index])<10^(-8)\n",
    "        return false\n",
    "    end\n",
    "    \n",
    "    X1=X*1 #値をコピーする\n",
    "    X2=X*1 #値をコピーする\n",
    "    X1[max_index]= intersect(X[max_index],X[max_index]-radius(X[max_index]))\n",
    "    X2[max_index]= intersect(X[max_index],X[max_index]+(diam(X[max_index])-radius(X[max_index])))\n",
    "    return X1,X2\n",
    "end\n",
    "\n",
    "function border(K,I)\n",
    "    c=0.9\n",
    "    K_width=diam.(K)\n",
    "    I_width=diam.(I)\n",
    "    max=0\n",
    "    for i=1:size(K)[1]\n",
    "        if (K_width[i]/I_width[i])>max\n",
    "            max=K_width[i]/I_width[i]\n",
    "        end\n",
    "    end\n",
    "    if max<=0.9\n",
    "        return true\n",
    "    else\n",
    "        return false\n",
    "    end\n",
    "end\n",
    "\n",
    "function remove_duplication(S)\n",
    "    tmp_index=[]\n",
    "    new_s=[]\n",
    "    for i=1:size(S)[1]-1\n",
    "        for j = i+1:size(S)[1]\n",
    "            if !orig_is_empty(S[i],S[j])\n",
    "                \n",
    "                if (i in tmp_index) || (j in tmp_index)\n",
    "                    push!(tmp_index,i)\n",
    "                    push!(tmp_index,j)\n",
    "                    continue\n",
    "                end\n",
    "                push!(tmp_index,i)\n",
    "                push!(tmp_index,j)\n",
    "                I = orig_intersect(S[i],S[j])\n",
    "                push!(new_s,I)\n",
    "            end\n",
    "        end\n",
    "    end\n",
    "    for i=1:size(S)[1]\n",
    "        if !(i in tmp_index)\n",
    "            push!(new_s,S[i])\n",
    "        end\n",
    "    end\n",
    "    \n",
    "    return new_s\n",
    "end\n",
    "\n",
    "\n",
    "function allsol(F,X)\n",
    "    dimention = size(X)[1]\n",
    "    \n",
    "    L = [X] #調査する区間のリスト\n",
    "    S = Array[] #見つかった解のリスト\n",
    "    \n",
    "    while (size(L)[1] != 0)\n",
    "        \n",
    "        X = popfirst!(L) #Lから区間を一つ取り出す\n",
    "        \n",
    "        #非存在判定\n",
    "        if !( orig_is_subset([(0. .. 0.) for i=1:dimention], F(X)) ) \n",
    "            continue\n",
    "        end\n",
    "        \n",
    "        c = mid.(X)\n",
    "        j = ForwardDiff.jacobian(F,X)\n",
    "        \n",
    "        #非存在判定\n",
    "        if !( orig_is_subset([(0. .. 0.) for i=1:dimention], F(c)+j*(X-c)) )\n",
    "            continue\n",
    "        end\n",
    "        \n",
    "        R = []\n",
    "        #逆行列計算\n",
    "        try\n",
    "            R = inv(ForwardDiff.jacobian(F,c))\n",
    "        catch e\n",
    "            #逆行列計算に失敗したら区間を分割\n",
    "            try\n",
    "                X1,X2 = orig_devide(X)\n",
    "                push!(L, X1)\n",
    "                push!(L, X2)\n",
    "            catch \n",
    "                continue\n",
    "            end\n",
    "            continue\n",
    "        end\n",
    "        \n",
    "        M = Matrix{Float64}(I,size(R))-R*j\n",
    "        K = c -R*F(c)+M*(X-c)\n",
    "        \n",
    "        #解なし\n",
    "        if (orig_is_empty(K,X))\n",
    "            continue \n",
    "        end\n",
    "        \n",
    "        #解あり\n",
    "        if (orig_is_subset(K,X))　\n",
    "            push!(S, K) #解のリストに追加\n",
    "            continue\n",
    "        end\n",
    "        \n",
    "        # 境界に乗ってた時\n",
    "        if border(K,X)\n",
    "            push!(L,K)\n",
    "            continue\n",
    "        end\n",
    "        \n",
    "        #分割して候補者区間に追加\n",
    "        try\n",
    "            X1,X2 = orig_devide(orig_intersect(K,X))\n",
    "            #K and X を2分割\n",
    "            push!(L, X1)\n",
    "            push!(L, X2)\n",
    "            continue\n",
    "        catch\n",
    "            continue\n",
    "        end\n",
    "    end\n",
    "    \n",
    "    #重複を排除\n",
    "    S = remove_duplication(S)\n",
    "    \n",
    "    #区間を狭める\n",
    "    for i =1:size(S)[1]\n",
    "        si=S[i]\n",
    "        while(maximum(radius,si) >= 10^-5)\n",
    "            j=0\n",
    "            try\n",
    "                j = ForwardDiff.jacobian(F,si)\n",
    "            catch\n",
    "                break\n",
    "            end\n",
    "            c = mid.(si)\n",
    "            R=0\n",
    "            try \n",
    "                R = inv(ForwardDiff.jacobian(F,c)) \n",
    "            catch\n",
    "                break\n",
    "            end\n",
    "            M = Matrix{Float64}(I,size(R))-R*j\n",
    "            k = c -R*F(c)+M*(si-c)\n",
    "            if orig_is_subset(k,si)\n",
    "                si=k\n",
    "            else\n",
    "                break\n",
    "            end\n",
    "        end\n",
    "        S[i]=si\n",
    "    end\n",
    "    \n",
    "    for s=1:size(S)[1] \n",
    "        print(\"解\");print(s);print(\": \");\n",
    "        for i in S[s]\n",
    "            print(i)\n",
    "            print(\" \")\n",
    "        end\n",
    "        println(\"\")\n",
    "    end\n",
    "    \n",
    "    return S\n",
    "end\n",
    "\n",
    "# 重解　＝＞区間幅に制限をつける\n",
    "# 高速化？"
   ]
  },
  {
   "cell_type": "markdown",
   "id": "5971b1d3",
   "metadata": {},
   "source": [
    "## 検証5 3次元以上"
   ]
  },
  {
   "cell_type": "code",
   "execution_count": 18,
   "id": "9569f603",
   "metadata": {},
   "outputs": [
    {
     "name": "stdout",
     "output_type": "stream",
     "text": [
      "BoundsError(([-1000, 1000], [-1000, 1000]), 3)"
     ]
    },
    {
     "ename": "LoadError",
     "evalue": "BoundsError: attempt to access Tuple{ForwardDiff.Dual{ForwardDiff.Tag{typeof(F4), Interval{Float64}}, Interval{Float64}, 3}, ForwardDiff.Dual{ForwardDiff.Tag{typeof(F4), Interval{Float64}}, Interval{Float64}, 3}} at index [3]",
     "output_type": "error",
     "traceback": [
      "BoundsError: attempt to access Tuple{ForwardDiff.Dual{ForwardDiff.Tag{typeof(F4), Interval{Float64}}, Interval{Float64}, 3}, ForwardDiff.Dual{ForwardDiff.Tag{typeof(F4), Interval{Float64}}, Interval{Float64}, 3}} at index [3]",
      "",
      "Stacktrace:",
      "  [1] indexed_iterate",
      "    @ .\\tuple.jl:88 [inlined]",
      "  [2] f(::Tuple{ForwardDiff.Dual{ForwardDiff.Tag{typeof(F4), Interval{Float64}}, Interval{Float64}, 3}, ForwardDiff.Dual{ForwardDiff.Tag{typeof(F4), Interval{Float64}}, Interval{Float64}, 3}})",
      "    @ Main .\\In[18]:3",
      "  [3] F4(::Vector{ForwardDiff.Dual{ForwardDiff.Tag{typeof(F4), Interval{Float64}}, Interval{Float64}, 3}})",
      "    @ Main .\\In[18]:7",
      "  [4] vector_mode_dual_eval!(f::typeof(F4), cfg::ForwardDiff.JacobianConfig{ForwardDiff.Tag{typeof(F4), Interval{Float64}}, Interval{Float64}, 3, Vector{ForwardDiff.Dual{ForwardDiff.Tag{typeof(F4), Interval{Float64}}, Interval{Float64}, 3}}}, x::Vector{Interval{Float64}})",
      "    @ ForwardDiff C:\\Users\\moes9\\.julia\\packages\\ForwardDiff\\pDtsf\\src\\apiutils.jl:37",
      "  [5] vector_mode_jacobian(f::typeof(F4), x::Vector{Interval{Float64}}, cfg::ForwardDiff.JacobianConfig{ForwardDiff.Tag{typeof(F4), Interval{Float64}}, Interval{Float64}, 3, Vector{ForwardDiff.Dual{ForwardDiff.Tag{typeof(F4), Interval{Float64}}, Interval{Float64}, 3}}})",
      "    @ ForwardDiff C:\\Users\\moes9\\.julia\\packages\\ForwardDiff\\pDtsf\\src\\jacobian.jl:148",
      "  [6] jacobian(f::Function, x::Vector{Interval{Float64}}, cfg::ForwardDiff.JacobianConfig{ForwardDiff.Tag{typeof(F4), Interval{Float64}}, Interval{Float64}, 3, Vector{ForwardDiff.Dual{ForwardDiff.Tag{typeof(F4), Interval{Float64}}, Interval{Float64}, 3}}}, ::Val{true})",
      "    @ ForwardDiff C:\\Users\\moes9\\.julia\\packages\\ForwardDiff\\pDtsf\\src\\jacobian.jl:21",
      "  [7] jacobian(f::Function, x::Vector{Interval{Float64}}, cfg::ForwardDiff.JacobianConfig{ForwardDiff.Tag{typeof(F4), Interval{Float64}}, Interval{Float64}, 3, Vector{ForwardDiff.Dual{ForwardDiff.Tag{typeof(F4), Interval{Float64}}, Interval{Float64}, 3}}}) (repeats 2 times)",
      "    @ ForwardDiff C:\\Users\\moes9\\.julia\\packages\\ForwardDiff\\pDtsf\\src\\jacobian.jl:19",
      "  [8] allsol(F::typeof(F4), X::Vector{Interval{Float64}})",
      "    @ Main .\\In[15]:124",
      "  [9] top-level scope",
      "    @ In[18]:8",
      " [10] eval",
      "    @ .\\boot.jl:368 [inlined]",
      " [11] include_string(mapexpr::typeof(REPL.softscope), mod::Module, code::String, filename::String)",
      "    @ Base .\\loading.jl:1428"
     ]
    }
   ],
   "source": [
    "X = [(-1000. ..1000.),(-1000. .. 1000.),(-1000. .. 1000.)]\n",
    "\n",
    "f((x1, x2, x3)) = 2*x[0] + x2^2 - 1 + x3\n",
    "g((x1, x2, x3)) = 2*x1^2 - x2 - x3\n",
    "h((x1, x2, x3)) = x1 + x2 + x3\n",
    "\n",
    "F4((x,y))=[f((x,y));g((x,y));h((x,y))]\n",
    "answer=allsol(F4,X)\n",
    "@show answer"
   ]
  },
  {
   "cell_type": "markdown",
   "id": "5e861c72",
   "metadata": {},
   "source": [
    "[-9.8813129168249309e-324,9.8813129168249309e-324]\t[-4.9406564584124655e-324,4.9406564584124655e-324]\t[-1.4821969375237397e-323,1.4821969375237397e-323]\n",
    "\n",
    "[-1.1489638109006182,-1.1489638109006172]\t[1.3201178387592698,1.3201178387592707]\t[0.55521651359078849,0.55521651359078895]\n"
   ]
  },
  {
   "cell_type": "markdown",
   "id": "5f176639",
   "metadata": {},
   "source": [
    "## 今後\n",
    "\n",
    "- 高速化\n",
    "- KVのallsol_simpleとの速度比較"
   ]
  }
 ],
 "metadata": {
  "kernelspec": {
   "display_name": "Julia 1.8.2",
   "language": "julia",
   "name": "julia-1.8"
  },
  "language_info": {
   "file_extension": ".jl",
   "mimetype": "application/julia",
   "name": "julia",
   "version": "1.8.2"
  }
 },
 "nbformat": 4,
 "nbformat_minor": 5
}
