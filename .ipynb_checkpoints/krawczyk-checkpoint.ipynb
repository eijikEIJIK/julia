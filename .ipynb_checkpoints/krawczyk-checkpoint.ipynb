{
 "cells": [
  {
   "cell_type": "code",
   "execution_count": 39,
   "id": "241e2089",
   "metadata": {},
   "outputs": [
    {
     "data": {
      "text/plain": [
       "newton (generic function with 1 method)"
      ]
     },
     "execution_count": 39,
     "metadata": {},
     "output_type": "execute_result"
    }
   ],
   "source": [
    "using LinearAlgebra,IntervalArithmetic,ForwardDiff\n",
    "\n",
    "function newton(F,V,n)\n",
    "    x = V\n",
    "    for i = 1:n\n",
    "        j = ForwardDiff.jacobian(F,x)\n",
    "        R = inv(j)\n",
    "        @show R\n",
    "        if norm(R*F(x))<10^(-3)\n",
    "            return x\n",
    "        end\n",
    "        @show x\n",
    "        x = x-R*F(x)\n",
    "    end\n",
    "    return x\n",
    "end"
   ]
  },
  {
   "cell_type": "code",
   "execution_count": 45,
   "id": "9401006c",
   "metadata": {},
   "outputs": [
    {
     "data": {
      "text/plain": [
       "orig_is_subset (generic function with 1 method)"
      ]
     },
     "execution_count": 45,
     "metadata": {},
     "output_type": "execute_result"
    }
   ],
   "source": [
    "using LinearAlgebra,IntervalArithmetic,ForwardDiff\n",
    "\n",
    "function orig_is_subset(X,Y)\n",
    "    for i = 1:size(X)[1]\n",
    "        if !( issubset(X[i],Y[i]) )\n",
    "            return false\n",
    "        end\n",
    "    end\n",
    "    return true\n",
    "end"
   ]
  },
  {
   "cell_type": "code",
   "execution_count": 54,
   "id": "df4795a5",
   "metadata": {},
   "outputs": [
    {
     "data": {
      "text/plain": [
       "krawczyk (generic function with 1 method)"
      ]
     },
     "execution_count": 54,
     "metadata": {},
     "output_type": "execute_result"
    }
   ],
   "source": [
    "using LinearAlgebra,IntervalArithmetic,ForwardDiff\n",
    "\n",
    "function krawczyk(F,V,n)\n",
    "    @show x = newton(F,V,n)\n",
    "    j = ForwardDiff.jacobian(F,x)\n",
    "    R = inv(j)\n",
    "    V2 =  x+norm(R*F(x))*[(-2. .. 2.) for i in 1:size(R)[1]]\n",
    "    \n",
    "    @show V2\n",
    "    \n",
    "    j = ForwardDiff.jacobian(F,V2)\n",
    "    c = mid.(V2)\n",
    "    R = inv(ForwardDiff.jacobian(F,c)) \n",
    "    M = Matrix{Float64}(I,size(R))-R*j\n",
    "    K = c -R*F(c)+M*(X-c)\n",
    "    if orig_is_subset(K,V2)\n",
    "        return K\n",
    "    else\n",
    "        return false\n",
    "    end\n",
    "end\n",
    "\n"
   ]
  },
  {
   "cell_type": "code",
   "execution_count": 58,
   "id": "ff887460",
   "metadata": {},
   "outputs": [
    {
     "name": "stdout",
     "output_type": "stream",
     "text": [
      "R = [0.03367003367003374 0.4208754208754208; 2.3148148148148144 -2.3148148148148144]\n",
      "x = [1.1, 0.2]\n",
      "R = [0.7900991736741941 0.06753871255162154; 0.016280562548118157 -0.016280562548118157]\n",
      "x = [0.5829966329966331, 2.418518518518518]\n",
      "x = newton(F, V, n) = [-1.2291391253778268, 1.7825550591490744]\n",
      "V2 = Interval{Float64}[[-3.12015, 0.661871], [-0.108455, 3.67357]]\n",
      "krawczyk(F, X, 2) = false\n"
     ]
    },
    {
     "data": {
      "text/plain": [
       "false"
      ]
     },
     "execution_count": 58,
     "metadata": {},
     "output_type": "execute_result"
    }
   ],
   "source": [
    "using LinearAlgebra,IntervalArithmetic,ForwardDiff\n",
    "\n",
    "f((x1,x2))= x1^2 +x2^2 -1\n",
    "g((x1,x2)) = x1^2-x2^4\n",
    "F((x,y))=[f((x,y));g((x,y))]\n",
    "\n",
    "X = [1.1, 0.2]\n",
    "\n",
    "@show krawczyk(F,X,2)"
   ]
  }
 ],
 "metadata": {
  "kernelspec": {
   "display_name": "Julia 1.8.2",
   "language": "julia",
   "name": "julia-1.8"
  },
  "language_info": {
   "file_extension": ".jl",
   "mimetype": "application/julia",
   "name": "julia",
   "version": "1.8.2"
  }
 },
 "nbformat": 4,
 "nbformat_minor": 5
}
