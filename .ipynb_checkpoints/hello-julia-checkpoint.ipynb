{
 "cells": [
  {
   "cell_type": "code",
   "execution_count": 3,
   "id": "42686f65",
   "metadata": {},
   "outputs": [
    {
     "name": "stdout",
     "output_type": "stream",
     "text": [
      "[-0.900001, 4.20001]\n",
      "[-5.20001, -0.0999999]\n",
      "[-6.51001, 3.41001]\n",
      "[-1.75001, 0.916667]\n",
      "[-∞, ∞]\n"
     ]
    }
   ],
   "source": [
    "X = interval(-2.1, 1.1)\n",
    "Y = interval(1.2, 3.1)\n",
    "\n",
    "println(X + Y)\n",
    "println(X - Y)\n",
    "println(X * Y)\n",
    "println(X / Y)\n",
    "println(Y / X)"
   ]
  },
  {
   "cell_type": "code",
   "execution_count": 1,
   "id": "4ba60d30",
   "metadata": {},
   "outputs": [
    {
     "name": "stdout",
     "output_type": "stream",
     "text": [
      "[-2, 1]\n",
      "d(a) = 3.0\n",
      "rad(a) = 1.5\n",
      "mid(a) = -0.5\n",
      "mig(a) = 0.0\n",
      "mag(a) = 2.0\n"
     ]
    }
   ],
   "source": [
    "using IntervalArithmetic\n",
    "\n",
    "a = interval(-2, 1);\n",
    "# a = -2. .. 1.    # .. operator\n",
    "println(a)\n",
    "\n",
    "print(\"d(a) = \")\n",
    "println(diam(a))\n",
    "\n",
    "print(\"rad(a) = \")\n",
    "println(radius(a))\n",
    "\n",
    "print(\"mid(a) = \")\n",
    "println(mid(a))\n",
    "\n",
    "print(\"mig(a) = \")\n",
    "println(mig(a))\n",
    "\n",
    "print(\"mag(a) = \")\n",
    "println(mag(a))\n",
    "\n",
    "# @format midpoint 3\n",
    "# @format full\n",
    "# @format standard 10"
   ]
  },
  {
   "cell_type": "code",
   "execution_count": 17,
   "id": "f97902c5",
   "metadata": {},
   "outputs": [
    {
     "name": "stdout",
     "output_type": "stream",
     "text": [
      "[2 5 8; 6 9 12; 10 13 16]\n",
      "[0 -1 -2; 2 1 0; 4 3 2]\n",
      "2.0\n",
      "[1.5 -0.5; -2.0 1.0]\n"
     ]
    }
   ],
   "source": [
    "## LinearAlgebra\n",
    "\n",
    "using LinearAlgebra\n",
    "\n",
    "A = [1 2 3;\n",
    "     4 5 6;\n",
    "     7 8 9;]\n",
    "B = [1 3 5;\n",
    "     2 4 6;\n",
    "     3 5 7;]\n",
    "\n",
    "println(A+B)#和\n",
    "\n",
    "println(A-B)#差\n",
    "\n",
    "C=[2 1;\n",
    "   4 3]\n",
    "\n",
    "println(det(C))#行列式\n",
    "\n",
    "println(inv(C))#逆行列\n",
    "\n",
    "    "
   ]
  },
  {
   "cell_type": "code",
   "execution_count": 5,
   "id": "31b0c371",
   "metadata": {},
   "outputs": [
    {
     "name": "stdout",
     "output_type": "stream",
     "text": [
      "0.30000000000000004\n",
      "0.3\n",
      "5.551115123125783e-17\n"
     ]
    }
   ],
   "source": [
    "using RoundingEmulator\n",
    "\n",
    "println(add_up(0.1,0.2))\n",
    "println(add_down(0.1,0.2))\n",
    "println(add_up(0.1,0.2)-add_down(0.1,0.2))\n",
    "\n"
   ]
  },
  {
   "cell_type": "code",
   "execution_count": 7,
   "id": "dc4c2689",
   "metadata": {},
   "outputs": [
    {
     "name": "stdout",
     "output_type": "stream",
     "text": [
      "3\n"
     ]
    }
   ],
   "source": [
    "println(abs(-3))"
   ]
  },
  {
   "cell_type": "code",
   "execution_count": 26,
   "id": "b9507f25",
   "metadata": {},
   "outputs": [
    {
     "name": "stdout",
     "output_type": "stream",
     "text": [
      "0.30000000000000004\n",
      "0.3\n"
     ]
    }
   ],
   "source": [
    "function twosum(a::Float64,b::Float64)\n",
    "    x = a+b\n",
    "    tmp = x-a\n",
    "    y = b-tmp\n",
    "    return x , y\n",
    "end\n",
    "\n",
    "function split(a::Float64)\n",
    "    tmp = a*((2. ^ 27)+1)\n",
    "    x=tmp-(tmp-a)\n",
    "    y=a-x\n",
    "    return x,y\n",
    "end\n",
    "\n",
    "function twoproduct(a::Float64,b::Float64)\n",
    "    x = a*b\n",
    "    a1,a2 = split(a)\n",
    "    b1,b2 = split(b)\n",
    "    y = a2*b2-(((x-a1+b1)-a2*b1)-a1*b2)\n",
    "    return x,y\n",
    "end\n",
    "\n",
    "function succ(x::Float64)\n",
    "    a = abs(x)\n",
    "    if (a >= 2. ^ (-969))\n",
    "        return x+a*(2. ^ (-53)+2. ^ (-105))\n",
    "    end\n",
    "    if (a < 2. ^ (-1021))\n",
    "        return x+a*(2. ^ (-1074))    \n",
    "    end\n",
    "    c = (2. ^ 53)*x\n",
    "    e = (2. ^ (-53))+(2. ^ (-105))*abs(c)\n",
    "    return (c + e)*2. ^ (-53)\n",
    "end\n",
    "    \n",
    "function pred(x::Float64)\n",
    "    a = abs(x)\n",
    "    if (a >= 2. ^ (-969))\n",
    "        return x-a*(2. ^ (-53)+2. ^ (-105))\n",
    "    end\n",
    "    if (a < 2. ^ (-1021))\n",
    "        return x-a*(2. ^ (-1074))    \n",
    "    end\n",
    "    c = (2. ^ 53)*x\n",
    "    e = (2. ^ (-53))+(2. ^ (-105))*abs(c)\n",
    "    return (c - e)*2. ^ (-53)\n",
    "end\n",
    "    \n",
    "function add_up(a::Float64,b::Float64)\n",
    "    x , y = twosum(a, b)\n",
    "    if y > 0\n",
    "        x = succ(x)\n",
    "    end\n",
    "    return x\n",
    "end\n",
    "\n",
    "function add_down(a::Float64,b::Float64)\n",
    "    x , y = twosum(a, b)\n",
    "    if y < 0\n",
    "        x = pred(x)\n",
    "    end\n",
    "    return x\n",
    "end\n",
    "\n",
    "function sub_up(a::Float64,b::Float64)\n",
    "    x , y = twosum(a, -b)\n",
    "    if y > 0\n",
    "        x = succ(x)\n",
    "    end\n",
    "    return x\n",
    "end\n",
    "\n",
    "function sub_down(a::Float64,b::Float64)\n",
    "    x , y = twosum(a, -b)\n",
    "    if y < 0\n",
    "        x = pred(x)\n",
    "    end\n",
    "    return x\n",
    "end\n",
    "\n",
    "function mul_up(a::Float64, b::Float64)\n",
    "    x , y = twoproduct(a, b)\n",
    "    if y > 0\n",
    "        x = succ(x)\n",
    "    end\n",
    "    return x\n",
    "end\n",
    "\n",
    "function mul_down(a::Float64, b::Float64)\n",
    "    x , y = twoproduct(a, b)\n",
    "    if y < 0\n",
    "        x = pred(x)\n",
    "    end\n",
    "    return x\n",
    "end\n",
    "\n",
    "function div_up(a::Float64, b::Float64)\n",
    "    if b<0\n",
    "        an, bn = -a, -b\n",
    "    else\n",
    "        an, bn = a, b\n",
    "    end\n",
    "    d = an / bn\n",
    "    x,y = twoproduct (d, bn)\n",
    "    if x < an || (x == an && y < 0)\n",
    "        return succ(d)\n",
    "    end\n",
    "    return d\n",
    "end\n",
    "\n",
    "function div_down(a::Float64, b::Float64)\n",
    "    if b < 0\n",
    "        an, bn = -a, -b\n",
    "    else\n",
    "        an, bn = a, b\n",
    "    end\n",
    "    d = an / bn\n",
    "    x,y = twoproduct (d, bn)\n",
    "    if x > an || (x == an && y > 0)\n",
    "        return pred(d)\n",
    "    end\n",
    "    return d\n",
    "end\n",
    "\n",
    "\n",
    "\n"
   ]
  }
 ],
 "metadata": {
  "kernelspec": {
   "display_name": "Julia 1.8.2",
   "language": "julia",
   "name": "julia-1.8"
  },
  "language_info": {
   "file_extension": ".jl",
   "mimetype": "application/julia",
   "name": "julia",
   "version": "1.8.2"
  }
 },
 "nbformat": 4,
 "nbformat_minor": 5
}
